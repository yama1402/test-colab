{
  "nbformat": 4,
  "nbformat_minor": 0,
  "metadata": {
    "colab": {
      "name": "intro.ipynb",
      "provenance": [],
      "collapsed_sections": [],
      "authorship_tag": "ABX9TyO/6FiAlxdkOHjeFK2az0l6",
      "include_colab_link": true
    },
    "kernelspec": {
      "name": "python3",
      "display_name": "Python 3"
    },
    "language_info": {
      "name": "python"
    }
  },
  "cells": [
    {
      "cell_type": "markdown",
      "metadata": {
        "id": "view-in-github",
        "colab_type": "text"
      },
      "source": [
        "<a href=\"https://colab.research.google.com/github/yama1402/test-colab/blob/main/template.ipynb\" target=\"_parent\"><img src=\"https://colab.research.google.com/assets/colab-badge.svg\" alt=\"Open In Colab\"/></a>"
      ]
    },
    {
      "cell_type": "markdown",
      "metadata": {
        "id": "TZ-HYRpxZ3v-"
      },
      "source": [
        "### Sales"
      ]
    },
    {
      "cell_type": "code",
      "metadata": {
        "id": "j_Y8Co7oWwur",
        "outputId": "54714677-946d-4c30-d0f9-4cc2e919bbeb",
        "colab": {
          "base_uri": "https://localhost:8080/"
        }
      },
      "source": [
        "revenue=10000\n",
        "tax=0.19\n",
        "income= revenue*tax\n",
        "income"
      ],
      "execution_count": 3,
      "outputs": [
        {
          "output_type": "execute_result",
          "data": {
            "text/plain": [
              "1900.0"
            ]
          },
          "metadata": {
            "tags": []
          },
          "execution_count": 3
        }
      ]
    },
    {
      "cell_type": "code",
      "metadata": {
        "id": "3yjkH9p2ZXvw",
        "outputId": "cdf9d0b6-61f1-4951-f50c-b7d1a8f39be3",
        "colab": {
          "base_uri": "https://localhost:8080/"
        }
      },
      "source": [
        "print(income)"
      ],
      "execution_count": 4,
      "outputs": [
        {
          "output_type": "stream",
          "text": [
            "1900.0\n"
          ],
          "name": "stdout"
        }
      ]
    },
    {
      "cell_type": "markdown",
      "metadata": {
        "id": "tX54sa_haPV8"
      },
      "source": [
        "### Sumary"
      ]
    },
    {
      "cell_type": "code",
      "metadata": {
        "id": "DB_M9qkaZdmZ",
        "outputId": "a165c68a-e821-4d7c-9f6a-6506cddcb76e",
        "colab": {
          "base_uri": "https://localhost:8080/",
          "height": 35
        }
      },
      "source": [
        "import numpy as np\n",
        "\n",
        "np.__version__"
      ],
      "execution_count": 5,
      "outputs": [
        {
          "output_type": "execute_result",
          "data": {
            "application/vnd.google.colaboratory.intrinsic+json": {
              "type": "string"
            },
            "text/plain": [
              "'1.19.5'"
            ]
          },
          "metadata": {
            "tags": []
          },
          "execution_count": 5
        }
      ]
    },
    {
      "cell_type": "code",
      "metadata": {
        "id": "xzZPqrFga7qQ"
      },
      "source": [
        "np.random.rand?"
      ],
      "execution_count": 6,
      "outputs": []
    }
  ]
}